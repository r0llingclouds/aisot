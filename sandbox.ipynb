{
 "cells": [
  {
   "cell_type": "code",
   "execution_count": 1,
   "metadata": {},
   "outputs": [
    {
     "name": "stderr",
     "output_type": "stream",
     "text": [
      "/Users/tirsolopezausens/Desktop/aisot/.venv/lib/python3.11/site-packages/tqdm/auto.py:21: TqdmWarning: IProgress not found. Please update jupyter and ipywidgets. See https://ipywidgets.readthedocs.io/en/stable/user_install.html\n",
      "  from .autonotebook import tqdm as notebook_tqdm\n"
     ]
    },
    {
     "name": "stdout",
     "output_type": "stream",
     "text": [
      "2025-04-13 23:16:28,345 - DEBUG - milvus_logger - Milvus Client successfully initialized.\n",
      "2025-04-13 23:16:32,045 - DEBUG - milvus_logger - Dense embeddings initialized.\n"
     ]
    }
   ],
   "source": [
    "from src.MilvusClientASOT import MilvusClientASOT\n",
    "milvus_client = MilvusClientASOT()"
   ]
  },
  {
   "cell_type": "code",
   "execution_count": 2,
   "metadata": {},
   "outputs": [],
   "source": [
    "collection_name = 'asot'"
   ]
  },
  {
   "cell_type": "code",
   "execution_count": 3,
   "metadata": {},
   "outputs": [
    {
     "name": "stdout",
     "output_type": "stream",
     "text": [
      "2025-04-13 23:16:32,122 - DEBUG - milvus_logger - Found 9 unique episodes in collection asot\n"
     ]
    },
    {
     "data": {
      "text/plain": [
       "['1119', '190', '274', '313', '314', '322', '325', '329', '331']"
      ]
     },
     "execution_count": 3,
     "metadata": {},
     "output_type": "execute_result"
    }
   ],
   "source": [
    "milvus_client.list_episodes(collection_name)"
   ]
  },
  {
   "cell_type": "code",
   "execution_count": 5,
   "metadata": {},
   "outputs": [
    {
     "name": "stdout",
     "output_type": "stream",
     "text": [
      "==================================================\n",
      "\n",
      "Querying with skills: \n",
      "glorified\n",
      "\n",
      "==================================================\n",
      "Found 1 matches:\n",
      " 0. Episode: 322\n",
      " Artist: Graham Gold\n",
      " Title: Glorified\n",
      " Ranking: 18\n",
      " URL: https://www.astateoftrance.com/episode-322/\n",
      " Match Score: 5.4664\n"
     ]
    }
   ],
   "source": [
    "# You can play with Milvus vector database here to check songs\n",
    "test_query = \"\"\"\n",
    "glorified\n",
    "\"\"\"\n",
    "\n",
    "print(\"=\" * 50)\n",
    "print(f\"\\nQuerying with skills: {test_query}\")\n",
    "print(\"=\" * 50)\n",
    "\n",
    "results = milvus_client.sparse_search(\n",
    "    collection_name=collection_name,\n",
    "    query_text=test_query,\n",
    "    limit=10,\n",
    ")\n",
    "print(f\"Found {len(results)} matches:\")\n",
    "for i, hit in enumerate(results):\n",
    "    print(f\" {i}. Episode: {hit['entity']['episode_id']}\")\n",
    "    if hit['entity']['artist'] != 'nav':\n",
    "        print(f\" Artist: {hit['entity']['artist']}\")\n",
    "    if hit['entity']['collaborators'] != 'nav':\n",
    "        print(f\" Collaborators: {hit['entity']['collaborators']}\")\n",
    "    if hit['entity']['featured_artists'] != 'nav':\n",
    "        print(f\" Featured Artists: {hit['entity']['featured_artists']}\")\n",
    "    if hit['entity']['title'] != 'nav':\n",
    "        print(f\" Title: {hit['entity']['title']}\")\n",
    "    if hit['entity']['remix_info'] != 'nav':\n",
    "        print(f\" Remix: {hit['entity']['remix_info']}\")\n",
    "    if hit['entity']['ranking'] != -1:\n",
    "        print(f\" Ranking: {hit['entity']['ranking']}\")\n",
    "    if hit['entity']['popularity_score'] != -1:\n",
    "        print(f\" Popularity Score: {hit['entity']['popularity_score']}\")\n",
    "    if hit['entity']['vote_count'] != -1:\n",
    "        print(f\" Vote Count: {hit['entity']['vote_count']}\")\n",
    "    if hit['entity']['URL'] != 'nav':\n",
    "        print(f\" URL: {hit['entity']['URL']}\")\n",
    "    print(f\" Match Score: {hit['distance']:.4f}\")\n"
   ]
  },
  {
   "cell_type": "code",
   "execution_count": null,
   "metadata": {},
   "outputs": [],
   "source": []
  }
 ],
 "metadata": {
  "kernelspec": {
   "display_name": ".venv",
   "language": "python",
   "name": "python3"
  },
  "language_info": {
   "codemirror_mode": {
    "name": "ipython",
    "version": 3
   },
   "file_extension": ".py",
   "mimetype": "text/x-python",
   "name": "python",
   "nbconvert_exporter": "python",
   "pygments_lexer": "ipython3",
   "version": "3.11.7"
  }
 },
 "nbformat": 4,
 "nbformat_minor": 2
}
