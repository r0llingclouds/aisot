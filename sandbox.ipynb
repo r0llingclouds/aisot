{
 "cells": [
  {
   "cell_type": "code",
   "execution_count": 29,
   "metadata": {},
   "outputs": [],
   "source": [
    "from MilvusClientASOT import MilvusClientASOT\n",
    "milvus_client = MilvusClientASOT()"
   ]
  },
  {
   "cell_type": "code",
   "execution_count": 34,
   "metadata": {},
   "outputs": [],
   "source": [
    "import os\n",
    "collection_name = 'asot'"
   ]
  },
  {
   "cell_type": "code",
   "execution_count": 35,
   "metadata": {},
   "outputs": [
    {
     "data": {
      "text/plain": [
       "'asot'"
      ]
     },
     "execution_count": 35,
     "metadata": {},
     "output_type": "execute_result"
    }
   ],
   "source": [
    "collection_name"
   ]
  },
  {
   "cell_type": "code",
   "execution_count": 36,
   "metadata": {},
   "outputs": [
    {
     "name": "stdout",
     "output_type": "stream",
     "text": [
      "2025-04-13 22:09:14,154 - DEBUG - milvus_logger - Found 7 unique episodes in collection asot\n"
     ]
    },
    {
     "data": {
      "text/plain": [
       "['1119', '274', '313', '314', '322', '325', '331']"
      ]
     },
     "execution_count": 36,
     "metadata": {},
     "output_type": "execute_result"
    }
   ],
   "source": [
    "milvus_client.list_episodes(collection_name)"
   ]
  },
  {
   "cell_type": "code",
   "execution_count": 37,
   "metadata": {},
   "outputs": [
    {
     "name": "stdout",
     "output_type": "stream",
     "text": [
      "==================================================\n",
      "\n",
      "Querying with skills: \n",
      "glorified\n",
      "\n",
      "==================================================\n",
      "Found 1 matches:\n",
      " 0. Episode: 322\n",
      " Artist: Graham Gold\n",
      " Title: Glorified\n",
      " Ranking: 18\n",
      " URL: https://www.astateoftrance.com/episode-322/\n",
      " Match Score: 5.2157\n"
     ]
    }
   ],
   "source": [
    "# You can play with Milvus vector database here to check songs\n",
    "test_query = \"\"\"\n",
    "glorified\n",
    "\"\"\"\n",
    "\n",
    "print(\"=\" * 50)\n",
    "print(f\"\\nQuerying with skills: {test_query}\")\n",
    "print(\"=\" * 50)\n",
    "\n",
    "results = milvus_client.sparse_search(\n",
    "    collection_name=collection_name,\n",
    "    query_text=test_query,\n",
    "    limit=10,\n",
    ")\n",
    "print(f\"Found {len(results)} matches:\")\n",
    "for i, hit in enumerate(results):\n",
    "    print(f\" {i}. Episode: {hit['entity']['episode_id']}\")\n",
    "    if hit['entity']['artist'] != 'nav':\n",
    "        print(f\" Artist: {hit['entity']['artist']}\")\n",
    "    if hit['entity']['collaborators'] != 'nav':\n",
    "        print(f\" Collaborators: {hit['entity']['collaborators']}\")\n",
    "    if hit['entity']['featured_artists'] != 'nav':\n",
    "        print(f\" Featured Artists: {hit['entity']['featured_artists']}\")\n",
    "    if hit['entity']['title'] != 'nav':\n",
    "        print(f\" Title: {hit['entity']['title']}\")\n",
    "    if hit['entity']['remix_info'] != 'nav':\n",
    "        print(f\" Remix: {hit['entity']['remix_info']}\")\n",
    "    if hit['entity']['ranking'] != -1:\n",
    "        print(f\" Ranking: {hit['entity']['ranking']}\")\n",
    "    if hit['entity']['popularity_score'] != -1:\n",
    "        print(f\" Popularity Score: {hit['entity']['popularity_score']}\")\n",
    "    if hit['entity']['vote_count'] != -1:\n",
    "        print(f\" Vote Count: {hit['entity']['vote_count']}\")\n",
    "    if hit['entity']['URL'] != 'nav':\n",
    "        print(f\" URL: {hit['entity']['URL']}\")\n",
    "    print(f\" Match Score: {hit['distance']:.4f}\")\n"
   ]
  },
  {
   "cell_type": "code",
   "execution_count": null,
   "metadata": {},
   "outputs": [],
   "source": []
  }
 ],
 "metadata": {
  "kernelspec": {
   "display_name": ".venv",
   "language": "python",
   "name": "python3"
  },
  "language_info": {
   "codemirror_mode": {
    "name": "ipython",
    "version": 3
   },
   "file_extension": ".py",
   "mimetype": "text/x-python",
   "name": "python",
   "nbconvert_exporter": "python",
   "pygments_lexer": "ipython3",
   "version": "3.11.7"
  }
 },
 "nbformat": 4,
 "nbformat_minor": 2
}
