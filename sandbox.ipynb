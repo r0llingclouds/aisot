{
 "cells": [
  {
   "cell_type": "code",
   "execution_count": null,
   "metadata": {},
   "outputs": [],
   "source": []
  },
  {
   "cell_type": "code",
   "execution_count": null,
   "metadata": {},
   "outputs": [],
   "source": [
    "a state of trance 274"
   ]
  },
  {
   "cell_type": "code",
   "execution_count": null,
   "metadata": {},
   "outputs": [],
   "source": [
    "# Process with custom output directory\n",
    "parsed_data, md_file, json_file = process_asot_episode(\n",
    "    \"https://www.astateoftrance.com/episode-313/\", \n",
    "    output_dir=\"asot\"\n",
    ")"
   ]
  },
  {
   "cell_type": "code",
   "execution_count": 14,
   "metadata": {},
   "outputs": [],
   "source": [
    "from process_asot_episode import process_asot_episode, extract_episode_number\n",
    "from unity_json import read_and_merge_json_files"
   ]
  },
  {
   "cell_type": "code",
   "execution_count": 16,
   "metadata": {},
   "outputs": [
    {
     "name": "stdout",
     "output_type": "stream",
     "text": [
      "2025-04-13 21:29:41,762 - DEBUG - milvus_logger - Found 6 unique episodes in collection asot\n"
     ]
    },
    {
     "data": {
      "text/plain": [
       "['https://www.astateoftrance.com/listen-now-asot1119/https://www.astateoftrance.com/episode-339/']"
      ]
     },
     "execution_count": 16,
     "metadata": {},
     "output_type": "execute_result"
    }
   ],
   "source": [
    "episodes = [\n",
    "'https://www.astateoftrance.com/episode-274/',\n",
    "'https://www.astateoftrance.com/episode-313/',\n",
    "'https://www.astateoftrance.com/episode-314/',\n",
    "'https://www.astateoftrance.com/episode-325/',\n",
    "'https://www.astateoftrance.com/episode-331/',\n",
    "'https://www.astateoftrance.com/listen-now-asot1119/'\n",
    "]\n",
    "\n",
    "existing_episodes = milvus_client.list_episodes(\"asot\")\n",
    "\n",
    "requested_episodes =  [episode for episode in episodes if extract_episode_number(episode) not in existing_episodes]\n",
    "requested_episodes"
   ]
  },
  {
   "cell_type": "code",
   "execution_count": null,
   "metadata": {},
   "outputs": [
    {
     "name": "stdout",
     "output_type": "stream",
     "text": [
      "Processing ASOT Episode 274 from URL: https://www.astateoftrance.com/episode-274/\n",
      "Step 1: Episode number extracted.\n",
      "Step 2: Starting web scraping...\n",
      "Scraping https://www.astateoftrance.com/episode-274/ (Attempt 1/3)\n",
      "Step 2: Web scraping completed.\n",
      "Step 3: Saving raw markdown content...\n",
      "Step 3: Saved raw markdown to data/asot/asot_episode_274_raw.md\n",
      "Step 4: Parsing song list using Claude...\n",
      "Step 4: Song list parsing completed.\n",
      "Step 5: Saving parsed data to JSON...\n",
      "Step 5: Saved parsed song data to data/asot/asot_episode_274.json\n",
      "Successfully processed ASOT Episode 274.\n",
      "Found 6 JSON files in data/asot\n",
      "Processed 128 total records\n"
     ]
    }
   ],
   "source": [
    "\n",
    "\n",
    "episodes = [\n",
    "'https://www.astateoftrance.com/episode-274/',\n",
    "'https://www.astateoftrance.com/episode-313/',\n",
    "'https://www.astateoftrance.com/episode-314/',\n",
    "'https://www.astateoftrance.com/episode-325/',\n",
    "'https://www.astateoftrance.com/episode-331/',\n",
    "'https://www.astateoftrance.com/listen-now-asot1119/'\n",
    "]\n",
    "\n",
    "data_dir = \"data/asot\"\n",
    "results = []\n",
    "for url in episodes:\n",
    "    try:\n",
    "        result = process_asot_episode(url, output_dir=data_dir)\n",
    "        results.append(result)\n",
    "    except Exception as e:\n",
    "        print(f\"Error processing {url}: {str(e)}\")\n",
    "\n",
    "all_records = read_and_merge_json_files(data_dir) # ready to be loaded into milvus\n"
   ]
  },
  {
   "cell_type": "code",
   "execution_count": null,
   "metadata": {},
   "outputs": [],
   "source": []
  },
  {
   "cell_type": "code",
   "execution_count": 2,
   "metadata": {},
   "outputs": [],
   "source": [
    "  # Directory containing JSON files\n",
    "collection_name = \"asot\"  # Name of the Milvus collection"
   ]
  },
  {
   "cell_type": "code",
   "execution_count": null,
   "metadata": {},
   "outputs": [],
   "source": []
  },
  {
   "cell_type": "code",
   "execution_count": 3,
   "metadata": {},
   "outputs": [
    {
     "name": "stderr",
     "output_type": "stream",
     "text": [
      "/Users/tirsolopezausens/Desktop/aisot/.venv/lib/python3.11/site-packages/tqdm/auto.py:21: TqdmWarning: IProgress not found. Please update jupyter and ipywidgets. See https://ipywidgets.readthedocs.io/en/stable/user_install.html\n",
      "  from .autonotebook import tqdm as notebook_tqdm\n"
     ]
    },
    {
     "name": "stdout",
     "output_type": "stream",
     "text": [
      "2025-04-13 21:19:25,967 - DEBUG - milvus_logger - Milvus Client successfully initialized.\n",
      "2025-04-13 21:19:29,238 - DEBUG - milvus_logger - Dense embeddings initialized.\n"
     ]
    },
    {
     "data": {
      "text/plain": [
       "['asot']"
      ]
     },
     "execution_count": 3,
     "metadata": {},
     "output_type": "execute_result"
    }
   ],
   "source": [
    "from MilvusClientASOT import MilvusClientASOT\n",
    "milvus_client = MilvusClientASOT()\n",
    "milvus_client.client.list_collections()"
   ]
  },
  {
   "cell_type": "code",
   "execution_count": 6,
   "metadata": {},
   "outputs": [
    {
     "name": "stdout",
     "output_type": "stream",
     "text": [
      "2025-04-13 21:21:41,195 - DEBUG - milvus_logger - Found 5 unique episodes in collection asot\n",
      "2025-04-13 21:21:41,196 - DEBUG - milvus_logger - Found 5 existing episode IDs in asot.\n",
      "2025-04-13 21:21:41,196 - INFO - milvus_logger - Skipped 107 documents because their episode_id already exists or was missing.\n",
      "2025-04-13 21:21:42,389 - DEBUG - milvus_logger - Prepared 21 documents with embeddings\n",
      "2025-04-13 21:21:42,404 - DEBUG - milvus_logger - Inserted 21 documents into asot\n",
      "2025-04-13 21:21:42,405 - INFO - milvus_logger - Successfully inserted 21 new episode documents into asot.\n"
     ]
    },
    {
     "data": {
      "text/plain": [
       "{'insert_count': 21, 'ids': [457326097369927986, 457326097369927987, 457326097369927988, 457326097369927989, 457326097369927990, 457326097369927991, 457326097369927992, 457326097369927993, 457326097369927994, 457326097369927995, 457326097369927996, 457326097369927997, 457326097369927998, 457326097369927999, 457326097369928000, 457326097369928001, 457326097369928002, 457326097369928003, 457326097369928004, 457326097369928005, 457326097369928006], 'cost': 0}"
      ]
     },
     "execution_count": 6,
     "metadata": {},
     "output_type": "execute_result"
    }
   ],
   "source": [
    "milvus_client.insert_new_episodes(collection_name, all_records)"
   ]
  },
  {
   "cell_type": "code",
   "execution_count": 6,
   "metadata": {},
   "outputs": [],
   "source": [
    "milvus_client.client.drop_collection(\"asot\")"
   ]
  },
  {
   "cell_type": "code",
   "execution_count": 7,
   "metadata": {},
   "outputs": [
    {
     "name": "stdout",
     "output_type": "stream",
     "text": [
      "2025-04-13 21:21:53,763 - DEBUG - milvus_logger - Found 6 unique episodes in collection asot\n"
     ]
    },
    {
     "data": {
      "text/plain": [
       "['1119', '274', '313', '314', '325', '331']"
      ]
     },
     "execution_count": 7,
     "metadata": {},
     "output_type": "execute_result"
    }
   ],
   "source": [
    "milvus_client.list_episodes(\"asot\")"
   ]
  },
  {
   "cell_type": "code",
   "execution_count": null,
   "metadata": {},
   "outputs": [],
   "source": [
    "result = milvus_client.create_and_load_collection(collection_name, all_records)"
   ]
  },
  {
   "cell_type": "code",
   "execution_count": 10,
   "metadata": {},
   "outputs": [
    {
     "name": "stdout",
     "output_type": "stream",
     "text": [
      "==================================================\n",
      "\n",
      "Querying with skills: \n",
      "im alone 274\n",
      "\n",
      "==================================================\n",
      "Found 10 matches:\n",
      " 0. Episode: 274\n",
      " Artist: Sun Decade\n",
      " Title: I'm Alone\n",
      " Remix: (Stoneface & Terminal Remix)\n",
      " Ranking: 10\n",
      " URL: https://www.astateoftrance.com/episode-274/\n",
      " Match Score: 6.8160\n",
      " 1. Episode: 274\n",
      " Artist: Aurosonic\n",
      " Title: Starfall\n",
      " Ranking: 2\n",
      " URL: https://www.astateoftrance.com/episode-274/\n",
      " Match Score: 2.7320\n",
      " 2. Episode: 274\n",
      " Artist: Bolier & Coenraad\n",
      " Title: Mohawk\n",
      " Ranking: 19\n",
      " URL: https://www.astateoftrance.com/episode-274/\n",
      " Match Score: 2.6777\n",
      " 3. Episode: 274\n",
      " Artist: Aly & Fila\n",
      " Title: Ankh\n",
      " Ranking: 15\n",
      " URL: https://www.astateoftrance.com/episode-274/\n",
      " Match Score: 2.6777\n",
      " 4. Episode: 274\n",
      " Artist: Robert Nickson\n",
      " Title: untitled\n",
      " Ranking: 14\n",
      " URL: https://www.astateoftrance.com/episode-274/\n",
      " Match Score: 2.6777\n",
      " 5. Episode: 274\n",
      " Artist: Carl B\n",
      " Title: Chasing Leaves\n",
      " Ranking: 13\n",
      " URL: https://www.astateoftrance.com/episode-274/\n",
      " Match Score: 2.6255\n",
      " 6. Episode: 274\n",
      " Artist: Joint Operations Centre\n",
      " Title: Shortwave\n",
      " Ranking: 17\n",
      " URL: https://www.astateoftrance.com/episode-274/\n",
      " Match Score: 2.6255\n",
      " 7. Episode: 274\n",
      " Artist: DJ Shah\n",
      " Title: Palmarosa\n",
      " Remix: (Armada)\n",
      " Ranking: 3\n",
      " URL: https://www.astateoftrance.com/episode-274/\n",
      " Match Score: 2.6255\n",
      " 8. Episode: 274\n",
      " Artist: ATP\n",
      " Title: Driftations\n",
      " Remix: (Marninx Dedicated mix)\n",
      " Ranking: 6\n",
      " URL: https://www.astateoftrance.com/episode-274/\n",
      " Match Score: 2.5752\n",
      " 9. Episode: 274\n",
      " Artist: Sophie Sugar\n",
      " Title: Fallen Too Far\n",
      " Ranking: 11\n",
      " URL: https://www.astateoftrance.com/episode-274/\n",
      " Match Score: 2.5752\n"
     ]
    }
   ],
   "source": [
    "# You can play with Milvus vector database here to check job positions\n",
    "# This job positions will be retrieved by the RAG agent\n",
    "test_query = \"\"\"\n",
    "im alone 274\n",
    "\"\"\"\n",
    "\n",
    "print(\"=\" * 50)\n",
    "print(f\"\\nQuerying with skills: {test_query}\")\n",
    "print(\"=\" * 50)\n",
    "\n",
    "results = milvus_client.sparse_search(\n",
    "    collection_name=collection_name,\n",
    "    query_text=test_query,\n",
    "    limit=10,\n",
    ")\n",
    "print(f\"Found {len(results)} matches:\")\n",
    "for i, hit in enumerate(results):\n",
    "    print(f\" {i}. Episode: {hit['entity']['episode_id']}\")\n",
    "    if hit['entity']['artist'] != 'nav':\n",
    "        print(f\" Artist: {hit['entity']['artist']}\")\n",
    "    if hit['entity']['collaborators'] != 'nav':\n",
    "        print(f\" Collaborators: {hit['entity']['collaborators']}\")\n",
    "    if hit['entity']['featured_artists'] != 'nav':\n",
    "        print(f\" Featured Artists: {hit['entity']['featured_artists']}\")\n",
    "    if hit['entity']['title'] != 'nav':\n",
    "        print(f\" Title: {hit['entity']['title']}\")\n",
    "    if hit['entity']['remix_info'] != 'nav':\n",
    "        print(f\" Remix: {hit['entity']['remix_info']}\")\n",
    "    if hit['entity']['ranking'] != -1:\n",
    "        print(f\" Ranking: {hit['entity']['ranking']}\")\n",
    "    if hit['entity']['popularity_score'] != -1:\n",
    "        print(f\" Popularity Score: {hit['entity']['popularity_score']}\")\n",
    "    if hit['entity']['vote_count'] != -1:\n",
    "        print(f\" Vote Count: {hit['entity']['vote_count']}\")\n",
    "    if hit['entity']['URL'] != 'nav':\n",
    "        print(f\" URL: {hit['entity']['URL']}\")\n",
    "    print(f\" Match Score: {hit['distance']:.4f}\")\n"
   ]
  },
  {
   "cell_type": "code",
   "execution_count": null,
   "metadata": {},
   "outputs": [],
   "source": []
  },
  {
   "cell_type": "code",
   "execution_count": null,
   "metadata": {},
   "outputs": [],
   "source": []
  },
  {
   "cell_type": "code",
   "execution_count": null,
   "metadata": {},
   "outputs": [],
   "source": []
  },
  {
   "cell_type": "code",
   "execution_count": null,
   "metadata": {},
   "outputs": [],
   "source": []
  },
  {
   "cell_type": "code",
   "execution_count": null,
   "metadata": {},
   "outputs": [],
   "source": []
  },
  {
   "cell_type": "code",
   "execution_count": null,
   "metadata": {},
   "outputs": [],
   "source": []
  },
  {
   "cell_type": "code",
   "execution_count": null,
   "metadata": {},
   "outputs": [],
   "source": []
  },
  {
   "cell_type": "code",
   "execution_count": null,
   "metadata": {},
   "outputs": [],
   "source": []
  },
  {
   "cell_type": "code",
   "execution_count": null,
   "metadata": {},
   "outputs": [],
   "source": [
    "\n",
    "# Import the MilvusClientASOT class\n",
    "from milvus_client import MilvusClientASOT  # Assuming this is the file name containing your class\n",
    "\n",
    "\n",
    "\"\"\"Main function to process ASOT data and insert into Milvus.\"\"\"\n",
    "# Configuration\n",
    "data_dir = \"data/asot\"  # Directory containing JSON files\n",
    "collection_name = \"asot_songs\"  # Name of the Milvus collection\n",
    "\n",
    "# Initialize Milvus client\n",
    "milvus_client = MilvusClientASOT()\n",
    "\n",
    "# Find, read and merge all JSON files\n",
    "all_records = read_and_merge_json_files(data_dir)\n",
    "\n",
    "# Check if collection exists and delete it if needed\n",
    "if milvus_client.client.has_collection(collection_name):\n",
    "    print(f\"Collection {collection_name} already exists. Deleting it first...\")\n",
    "    milvus_client.delete_collection(collection_name)\n",
    "\n",
    "# Use the client's method to create and load the collection\n",
    "result = milvus_client.create_and_load_collection(collection_name, all_records)\n",
    "print(f\"Successfully inserted data into {collection_name}\")\n"
   ]
  },
  {
   "cell_type": "code",
   "execution_count": null,
   "metadata": {},
   "outputs": [],
   "source": []
  },
  {
   "cell_type": "code",
   "execution_count": null,
   "metadata": {},
   "outputs": [],
   "source": []
  },
  {
   "cell_type": "code",
   "execution_count": 1,
   "metadata": {},
   "outputs": [],
   "source": [
    "# found formats for now for URLS\n",
    "https://www.astateoftrance.com/episode-313/\n",
    "https://www.astateoftrance.com/a-state-of-trance-episode-870/\n",
    "https://www.astateoftrance.com/asot-1110/\n",
    "https://www.astateoftrance.com/listen-now-asot1119/"
   ]
  },
  {
   "cell_type": "code",
   "execution_count": null,
   "metadata": {},
   "outputs": [],
   "source": []
  },
  {
   "cell_type": "code",
   "execution_count": null,
   "metadata": {},
   "outputs": [],
   "source": []
  },
  {
   "cell_type": "code",
   "execution_count": 15,
   "metadata": {},
   "outputs": [],
   "source": []
  },
  {
   "cell_type": "code",
   "execution_count": null,
   "metadata": {},
   "outputs": [],
   "source": [
    "songs_raw = scrape_url_with_retry('https://www.astateoftrance.com/episode-313/')"
   ]
  },
  {
   "cell_type": "code",
   "execution_count": 18,
   "metadata": {},
   "outputs": [],
   "source": [
    "from song_parser import parse_songs_with_claude\n",
    "import json\n",
    "\n",
    "episode_id = '313'\n",
    "songs_extracted = parse_songs_with_claude(songs_raw)\n",
    "json_file_name = f'parsed_songs_asot_{episode_id}.json'\n",
    "\n",
    "import json\n",
    "with open(json_file_name, 'w') as f:\n",
    "    json.dump(songs_extracted, f)"
   ]
  },
  {
   "cell_type": "code",
   "execution_count": null,
   "metadata": {},
   "outputs": [],
   "source": []
  },
  {
   "cell_type": "code",
   "execution_count": null,
   "metadata": {},
   "outputs": [],
   "source": []
  },
  {
   "cell_type": "code",
   "execution_count": null,
   "metadata": {},
   "outputs": [],
   "source": [
    "import os\n",
    "import json\n",
    "from MilvusClientASOT import MilvusClientASOT\n",
    "milvus_client = MilvusClientASOT()"
   ]
  },
  {
   "cell_type": "code",
   "execution_count": null,
   "metadata": {},
   "outputs": [],
   "source": [
    "milvus_client.client.list_collections()"
   ]
  },
  {
   "cell_type": "code",
   "execution_count": null,
   "metadata": {},
   "outputs": [],
   "source": [
    "# Create a collection with the job positions if it doesn't exist\n",
    "# Note you can do this also by running the job_positions_ingestion.py script\n",
    "# This is just for free-play\n",
    "\n",
    "collection_name = os.getenv(\"MILVUS_COLLECTION\")\n",
    "\n",
    "if milvus_client.client.has_collection(collection_name):\n",
    "    print(f\"Collection {collection_name} already exists. Skipping.\")\n",
    "else:\n",
    "    print(f\"Collection {collection_name} does not exist. Creating...\")\n",
    "    job_positions_file_path = \"job_positions.json\"\n",
    "    with open(job_positions_file_path, 'r') as f:\n",
    "        job_positions = json.load(f)\n",
    "    result = milvus_client.create_and_load_collection(collection_name, job_positions)\n"
   ]
  },
  {
   "cell_type": "code",
   "execution_count": null,
   "metadata": {},
   "outputs": [],
   "source": []
  },
  {
   "cell_type": "code",
   "execution_count": null,
   "metadata": {},
   "outputs": [],
   "source": []
  },
  {
   "cell_type": "code",
   "execution_count": null,
   "metadata": {},
   "outputs": [],
   "source": [
    "# You can play with Milvus vector database here to check job positions\n",
    "# This job positions will be retrieved by the RAG agent\n",
    "test_query = \"\"\"\n",
    "light the skies retrobyte\n",
    "\"\"\"\n",
    "\n",
    "print(\"=\" * 50)\n",
    "print(f\"\\nQuerying with skills: {test_query}\")\n",
    "print(\"=\" * 50)\n",
    "\n",
    "# results = milvus_client.hybrid_search(\n",
    "#     collection_name=collection_name,\n",
    "#     query_text=test_query,\n",
    "#     limit=3,\n",
    "#     ranker_type=\"weighted\",\n",
    "#     sparse_weight=0.9,\n",
    "#     dense_weight=0.1,\n",
    "#     output_fields=[\"episode_id\", \"text\"]\n",
    "# )\n",
    "\n",
    "results = milvus_client.sparse_search(\n",
    "    collection_name=collection_name,\n",
    "    query_text=test_query,\n",
    "    limit=3,\n",
    ")\n",
    "\n",
    "print(f\"Found {len(results)} matches:\")\n",
    "for i, hit in enumerate(results):\n",
    "    print(f\"  {i}. {hit['entity']['episode_id']}\")\n",
    "    print(f\"     Match Score: {hit['distance']:.4f}\")\n",
    "    print(f\"     Required Skills: {hit['entity']['text']}\")\n",
    "    print()"
   ]
  },
  {
   "cell_type": "code",
   "execution_count": null,
   "metadata": {},
   "outputs": [],
   "source": []
  },
  {
   "cell_type": "code",
   "execution_count": 5,
   "metadata": {},
   "outputs": [],
   "source": [
    "milvus_client.client.drop_collection(collection_name)"
   ]
  },
  {
   "cell_type": "code",
   "execution_count": 18,
   "metadata": {},
   "outputs": [],
   "source": [
    "asot314 = \"\"\"\n",
    "1. Jody Wisternoff – Starstrings (high contrast recordings)\n",
    "2. Bobina – The Last He Said\n",
    "3. Nic Chagall – Borderline (high contrast recordings)\n",
    "4. Unknown Artist – Interference\n",
    "5. Signalrunners – Dont look back (Anjunabeats)\n",
    "6. Oakenfold – Not Over (Robert Vadneys 2007 remix) (Perfecto)\n",
    "7. Terry Ferminal – Deep Inside (high contrast recordings)\n",
    "8. Mark Norman – Blikkenmachine (Blackhole)\n",
    "9. The Doppler Effect – Beauty Hides in the Deep (John O Callaghan\n",
    "remix)(Armada)\n",
    "10. Andy Bagguley – Together As one (Michael Dow remix) (Instant Music)\n",
    "11. FUTURE FAVORITE: Envio – For You (The Blizzard remix) (ASOT)\n",
    "12. TUNE OF THE WEEK: Tom Colontonio – Oxidize (Conspiracy Recordings)\n",
    "13. Bart Claessen – First Light (United)\n",
    "14. Paul van Dyk – Castaway (Positiva)\n",
    "15. Solarstone – 7 Cities (Tom Colontonio Rework)\n",
    "16. Joop – Prominent (high contrast recordings)\n",
    "17. Armin van Buuren – The Sound Of Goodbye (Nic Chagalls drumbeat re-edit)\n",
    "18. Digital Nature – Oasis (John Askew remix) (Flux Delux)\n",
    "19. Above & Beyond – Home (Above & Beyond club mix)\n",
    "20. ASOT Radio Classic: Solid Sessions – Janeiro (Armin van Buuren remix)\n",
    "(Positiva)\n",
    "\"\"\"\n",
    "\n",
    "asot325 = \"\"\"1. Armin van Buuren – The Sound of Goodbye (EDXs Indian Summer remix)(Sirup/Armada)\n",
    "2. Fragma – Toca Me (Inpetto 2008 remix)\n",
    "3. Myon – Albion\n",
    "4. Milan Lieskovsky – Elenya (Heatbeat remix) (Bonzai)\n",
    "5. Arnej – Rendezvous (Armada)\n",
    "6. First State – Sierra Nevada (from the album Time Frame) (Black Hole)\n",
    "7. Topher Jones – Young Life\n",
    "8. Mystery Islands – Perfect Escape (Octagen remix) (Insight recordings)\n",
    "9. Markus Schulz feat. Departure – Cause You Know (Nic Chagall remix) (Coldharbour Recordings)\n",
    "10. Alan M – Famicom (Temple One remix)\n",
    "11. Deep Voices – Your Picture (Robert Nickson remix) (Combined Forces)\n",
    "12. Luke Warner & Mat Lock – Deep Psychosis (Daniel Kandis Cure remix)\n",
    "13. Alex Kunnari – Lifter (Paul Webster remix) (Black Hole)\n",
    "14. Digital Nature & Onova – Inspiration\n",
    "15. TUNE OF THE WEEK: Aly & Fila – Lost Language (Armada/ Off Shore)\n",
    "16. The Doppler Effect – Beauty hides in the Deep (John O Callaghan remix)(Armada)\n",
    "17. FUTURE FAVORITE: Andy Blueman – Nyctalopia (Onova remix) (Perceptive Recordings)\n",
    "18. Cliff Coenraad – Manjula (Intuition Recordings)\n",
    "19. ASOT Radio Classic: Push – Strange World 2000 remake (Bonzai)\"\"\"\n",
    "\n",
    "asot331 = \"\"\"\n",
    "Top 20 of 2007 as voted by listeners to ASOT\n",
    "Number of confirmed valid votes: 11340\n",
    "\n",
    "Statement:\n",
    "This list is a true and accurate reflection of all votes and purely based on listeners votes. Each listener that submitted his or her votes, selected his personal top 5 of 2007 of tracks, as played in one of the shows in 2007. All votes were checked on possible fraud. Armin nor Armada had anything to do with the points awarded.\n",
    "\n",
    "Special thanks to Peter Kruit (www.arminvanbuuren.net)\n",
    "Position / Track / Points / Votes\n",
    "1. John O Callaghan feat. Audrey Gallagher – Big Sky (Agnelli & Nelson Remix) 4703 1415\n",
    "2- Armin van Buuren vs Rank 1 feat. Kush – This World Is Watching Me (Cosmic Gate Remix) 3414 948\n",
    "3. Dash Berlin – Till The Sky Falls Down (Vocal Mix) 2607 821\n",
    "4. Above & Beyond – Home (Above & Beyond Club Mix) 2578 850\n",
    "5. The Blizzard – Kalopsia (Original Mix) 2552 780\n",
    "6. Armin van Buuren – Rush Hour 2205 726\n",
    "7. First State feat. Anita Kelsey – Falling 1977 682\n",
    "8. Vincent de Moor – Fly Away (Cosmic Gate Remix) 1969 623\n",
    "9. Paul van Dyk & Starkillers & Austin Leeds featuring Ashley Tomberlin – New York City 1901 648\n",
    "10. Armin van Buuren – The Sound Of Goodbye (Nic Chagalls Drumbeat Re-Edit) 1807 582\n",
    "11. Filo & Peri featuring Eric Lumiere – Anthem (Original Mix) 1724 533\n",
    "12. Above & Beyond present Tranquility Base – Oceanic (Original Mix) 1714 559\n",
    "13. Ilse De Lange – The Great Escape (Armin van Buuren Remix) 1687 556\n",
    "14. Jonas Steur featuring Jennifer Rene – Fall To Pieces 1681 521\n",
    "15. DJ Shah featuring Adrina Thorpe – Who Will Find Me (Original Summer Sunrise Mix) 1671 530\n",
    "16. Albert Vorne – Formentera What (Gareth Emery Remix) 1663 479\n",
    "17. Cerf, Mitiska & Jaren – Light The Skies (Retrobytes Classic Electrobounce Mix) 1554 488\n",
    "18. Breakfast – The Sunlight 1534 473\n",
    "19. Cosmic Gate – Body Of Conflict (Extended Vocal Mix) 1339 488\n",
    "20. Above & Beyond featuring Zoe Johnston – Good For Me (Thomas Datt Bootleg Remix) 1328 410\n",
    "\n",
    "Next week: ASOT YEARMIX 2007\n",
    "\"\"\"\n",
    "\n",
    "asot1119 = \"\"\"\n",
    "Star Wars – Imperial March (Alex M.O.R.P.H. Intro Edit\n",
    "Luke Bond x M6 – Nexus [Armind] (Taken from A State of Trance 2023)\n",
    "D72 – Our Darkness [Armada Captivating]\n",
    "Armin van Buuren feat. Stuart Crichton – Dayglow (Bryan Kearney Remix) (Taken from A State of Trance 2023) [Armind]\n",
    "Ahmed Helmy – Glitch (Taken from A State of Trance 2023) [Armind]\n",
    "JODA – Breaking Down Walls (Myon’s Return to 2000 Mix) (Taken from A State of Trance 2023)  [Anjunabeats]\n",
    "TUNE OF THE WEEK: Giuseppe Ottaviani & Ilan Bluestone – Futuro (Taken from A State of Trance 2023) [Armind] \n",
    "C-Systems – Atlantis (Taken from A State of Trance 2023) [A State Of Trance]\n",
    "Andrea Ribeca – Space Line [Future Sound of Egypt]\n",
    "FUTURE FAVORITE: Armin van Buuren & Justine Suissa – Burned with Desire (Bryan Kearney Remix) (Taken from A State of Trance 2023) [Armind] \n",
    "Solarstone – Solarcoaster (Maarten de Jong Remix)  (Taken from A State of Trance 2023) [Armada Music] \n",
    "Armin van Buuren – Computers Take Over The World (Maddix Remix) (Taken from A State of Trance 2023) [ [Armind]\n",
    "South Of The Stars – Mechka [A State Of Trance]\n",
    "Allen Watts & Bogdan Vix – Apache [Who’s Afraid Of 138!]\n",
    "Paul Webster & NO-SO – Ignite [Who’s Afraid Of 138!]\n",
    "SERVICE FOR DREAMERS: Rank 1 – Airwave [Free for All]\n",
    "AVIRA feat. Dan Soleil – Wildfire [Armada Music]\n",
    "RNX – Collective [Pure Trance]\n",
    "Dennis Sheperd & Steve Brian – Summer Nights\n",
    "Estiva – Carnal Emotion (Taken from Infinita) [Enhanced Colorized]\n",
    "Ucast & Kamelon present CLAVIR – Radiate [Patterns]\n",
    "Mark Roma & Jordan Grace – Wandering Heart [A State of Trance]\n",
    "Scorz – Immersion [Armada Music] \n",
    "Steand – Stay [AVA Deep]\n",
    "Daniel Wanrooy – Time [Flashover Recordings]\n",
    "Kyau & Albert – Rising Hope [Euphonic]\n",
    "Karen Overton – Your Loving Arms (Jose Amnesia Rework) [Armada Music]\n",
    "Ferry Corsten – Connect [Flashover Recordings]\n",
    "JODA – Breaking Down Walls (Myon’s Return to 2000 Mix) [Anjunabeats]\"\"\"\n",
    "\n",
    "asots = [\n",
    "    {\n",
    "        \"episode_id\": \"314\",\n",
    "        \"text\": asot314\n",
    "    },\n",
    "    {\n",
    "        \"episode_id\": \"325\",\n",
    "        \"text\": asot325\n",
    "    },\n",
    "    {\n",
    "        \"episode_id\": \"331\",\n",
    "        \"text\": asot331\n",
    "    },\n",
    "    {\n",
    "        \"episode_id\": \"119\",\n",
    "        \"text\": asot119\n",
    "    }\n",
    "]\n"
   ]
  },
  {
   "cell_type": "code",
   "execution_count": null,
   "metadata": {},
   "outputs": [],
   "source": [
    "collection_name = \"asot\"\n",
    "result = milvus_client.create_and_load_collection(collection_name, asots)"
   ]
  },
  {
   "cell_type": "code",
   "execution_count": 23,
   "metadata": {},
   "outputs": [],
   "source": [
    "asot313 = \"\"\"\n",
    "[![A State of Trance](https://www.astateoftrance.com/wp-content/themes/asot/media/images/logo.svg)](https://www.astateoftrance.com/home/ \"A State of Trance\")\n",
    "\n",
    "![A State of Trance](https://www.astateoftrance.com/wp-content/themes/asot/media/images/logo-word.svg)\n",
    "\n",
    "MENU\n",
    "\n",
    "![A State of Trance](https://www.astateoftrance.com/wp-content/themes/asot/media/images/logo-word.svg)\n",
    "\n",
    "- [Instagram](http://instagram.com/asotlive \"Instagram\")\n",
    "- [Facebook](https://www.facebook.com/astateoftrance \"Facebook\")\n",
    "- [TikTok](https://www.tiktok.com/@asot.live \"TikTok\")\n",
    "- [Spotify](https://open.spotify.com/artist/25mFVpuABa9GkGcj9eOPce \"Spotify\")\n",
    "- [Soundcloud](https://soundcloud.com/astateoftrance \"Soundcloud\")\n",
    "- [YouTube](http://www.youtube.com/asotrecordings \"YouTube\")\n",
    "- [Discord](https://discord.com/invite/arminvanbuuren \"Discord\")\n",
    "- [Twitch](https://www.twitch.tv/asot \"Twitch\")\n",
    "- [Newsletter](https://cm.to/A3bqwI6 \"Newsletter\")\n",
    "\n",
    "Go back\n",
    "\n",
    "# Episode 313\n",
    "\n",
    "1\\. Above & Beyond – Home (Wippenberg remix) (Anjunabeats)\n",
    "\n",
    "2\\. Heatbeat – Protoculture\n",
    "\n",
    "3\\. Envio – For You (The Blizzard remix)\n",
    "\n",
    "4\\. Talla 2XLC – No In Between (Duderstadt progressive remix)\n",
    "\n",
    "5\\. Paul van Dyk – La dolce Vita (Vandit)\n",
    "\n",
    "6\\. Paul Miller – Crystal Source (Conspiracy)\n",
    "\n",
    "7\\. FUTURE FAVORITE: John O Callagan feat. Audrey Gallagher – Big Sky (Agnelli & Nelson remix) (Armind)\n",
    "\n",
    "8\\. TUNE OF THE WEEK: The Doppler Effect – Beauty hides in the Deep (John O Callaghan remix)\n",
    "\n",
    "9\\. Thomas Bronzwaer – Resound (Sean Tyas remix) (United)\n",
    "\n",
    "Hour 2: Live From Amnesia Ibiza 07-08-2007\n",
    "\n",
    "1\\. Nic Chagall – Back To San Fran (High Contrast)\n",
    "\n",
    "2\\. Black Pearl – Bounty Island (DJ Shah San Antonio Harbour remix)(ASOT)\n",
    "\n",
    "3\\. Purple Mood – One Night in Tokyo (DJ Shahs Savannah remix) (Anjunabeats)\n",
    "\n",
    "4\\. Ilse De Lange – The Great Escape (Armin van Buuren remix)\n",
    "\n",
    "5\\. Roland Klinkenberg – Mexico Can Wait (Global Underground)\n",
    "\n",
    "6\\. Unknown Artist – Unknown Title\n",
    "\n",
    "7\\. Genix – Phused (Marcus Schossow remix) (spinnin)\n",
    "\n",
    "8\\. Lange – Angel Falls (Signalrunners remix) (Lange Recordings)\n",
    "\n",
    "9\\. Dash Berlin – Till the Sky falls down (Dub mix) (Armada)\n",
    "\n",
    "10\\. Sultan & Ned – Together we Rise (Yoshitoshi)\n",
    "\n",
    "#### Newsletter\n",
    "\n",
    "A State of Trance Studio Visit\n",
    "\n",
    "* * *\"\"\""
   ]
  },
  {
   "cell_type": "code",
   "execution_count": 11,
   "metadata": {},
   "outputs": [],
   "source": []
  },
  {
   "cell_type": "code",
   "execution_count": null,
   "metadata": {},
   "outputs": [],
   "source": []
  },
  {
   "cell_type": "code",
   "execution_count": 13,
   "metadata": {},
   "outputs": [],
   "source": []
  },
  {
   "cell_type": "code",
   "execution_count": null,
   "metadata": {},
   "outputs": [],
   "source": []
  }
 ],
 "metadata": {
  "kernelspec": {
   "display_name": ".venv",
   "language": "python",
   "name": "python3"
  },
  "language_info": {
   "codemirror_mode": {
    "name": "ipython",
    "version": 3
   },
   "file_extension": ".py",
   "mimetype": "text/x-python",
   "name": "python",
   "nbconvert_exporter": "python",
   "pygments_lexer": "ipython3",
   "version": "3.11.7"
  }
 },
 "nbformat": 4,
 "nbformat_minor": 2
}
